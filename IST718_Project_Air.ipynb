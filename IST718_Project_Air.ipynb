{
  "nbformat": 4,
  "nbformat_minor": 0,
  "metadata": {
    "colab": {
      "name": "SVM for  IST718_Project_Airlinev2.ipynb -Phoebe",
      "provenance": [],
      "collapsed_sections": [],
      "machine_shape": "hm"
    },
    "kernelspec": {
      "name": "python3",
      "display_name": "Python 3"
    }
  },
  "cells": [
    {
      "cell_type": "code",
      "metadata": {
        "id": "vNLF1sdrjYm5",
        "colab_type": "code",
        "colab": {
          "base_uri": "https://localhost:8080/",
          "height": 51
        },
        "outputId": "620d0306-2e23-4058-e8d8-33362f8082e2"
      },
      "source": [
        "import pandas as pd  # data frame operations\n",
        "#import sweetviz as sv  # EDA\n",
        "import numpy as np  # arrays and math functions\n",
        "from scipy.stats import uniform  # for training-and-test split\n",
        "#import statsmodels.api as sm  # statistical models (including regression)\n",
        "import statsmodels.formula.api as smf  # R-like model specification\n",
        "import matplotlib.pyplot as plt  # 2D plotting\n",
        "import seaborn as sns  #  PLOTTING\n",
        "from scipy import stats\n",
        "sns.set(style=\"darkgrid\") # seaborn style\n",
        "from statsmodels.graphics.mosaicplot import mosaic"
      ],
      "execution_count": 2,
      "outputs": [
        {
          "output_type": "stream",
          "text": [
            "/usr/local/lib/python3.6/dist-packages/statsmodels/tools/_testing.py:19: FutureWarning: pandas.util.testing is deprecated. Use the functions in the public API at pandas.testing instead.\n",
            "  import pandas.util.testing as tm\n"
          ],
          "name": "stderr"
        }
      ]
    },
    {
      "cell_type": "code",
      "metadata": {
        "id": "_5TecKDAkTqD",
        "colab_type": "code",
        "colab": {}
      },
      "source": [
        "flight_base = pd.read_csv(\"https://raw.githubusercontent.com/itsAmeMario0o/BDA718-PROJECT/master/Data/finalprojectIST718v3.csv\", sep=',', error_bad_lines=False)"
      ],
      "execution_count": 123,
      "outputs": []
    },
    {
      "cell_type": "code",
      "metadata": {
        "id": "lAK2e7wOkTht",
        "colab_type": "code",
        "colab": {
          "base_uri": "https://localhost:8080/",
          "height": 34
        },
        "outputId": "b3ad762b-0951-4af8-affc-3fff5a65836a"
      },
      "source": [
        "flight1 = flight_base.copy()\n",
        "np.shape(flight1)"
      ],
      "execution_count": 124,
      "outputs": [
        {
          "output_type": "execute_result",
          "data": {
            "text/plain": [
              "(129889, 28)"
            ]
          },
          "metadata": {
            "tags": []
          },
          "execution_count": 124
        }
      ]
    },
    {
      "cell_type": "code",
      "metadata": {
        "id": "CksJKHgRkTZY",
        "colab_type": "code",
        "colab": {
          "base_uri": "https://localhost:8080/",
          "height": 309
        },
        "outputId": "c48decb4-05fc-4e3c-8fdf-8cd0ef7cbdb6"
      },
      "source": [
        "flight1.head()"
      ],
      "execution_count": 4,
      "outputs": [
        {
          "output_type": "execute_result",
          "data": {
            "text/html": [
              "<div>\n",
              "<style scoped>\n",
              "    .dataframe tbody tr th:only-of-type {\n",
              "        vertical-align: middle;\n",
              "    }\n",
              "\n",
              "    .dataframe tbody tr th {\n",
              "        vertical-align: top;\n",
              "    }\n",
              "\n",
              "    .dataframe thead th {\n",
              "        text-align: right;\n",
              "    }\n",
              "</style>\n",
              "<table border=\"1\" class=\"dataframe\">\n",
              "  <thead>\n",
              "    <tr style=\"text-align: right;\">\n",
              "      <th></th>\n",
              "      <th>Satisfaction</th>\n",
              "      <th>Airline_Status</th>\n",
              "      <th>Age</th>\n",
              "      <th>Gender</th>\n",
              "      <th>Price_Sensitivity</th>\n",
              "      <th>Year_of_First_Flight</th>\n",
              "      <th>No_of_Flights_perAir</th>\n",
              "      <th>%_of_Flight_with_other_Airlines</th>\n",
              "      <th>Type_of_Travel</th>\n",
              "      <th>No._of_other_Loyalty_Cards</th>\n",
              "      <th>Shopping_Amount_at_Airport</th>\n",
              "      <th>Eating_and_Drinking_at_Airport</th>\n",
              "      <th>Class</th>\n",
              "      <th>Day_of_Month</th>\n",
              "      <th>Flight_date</th>\n",
              "      <th>Airline_Code</th>\n",
              "      <th>Airline_Name</th>\n",
              "      <th>Orgin_City</th>\n",
              "      <th>Origin_State</th>\n",
              "      <th>Destination_City</th>\n",
              "      <th>Destination_State</th>\n",
              "      <th>Scheduled_Departure_Hour</th>\n",
              "      <th>Departure_Delay_in_Minutes</th>\n",
              "      <th>Arrival_Delay_in_Minutes</th>\n",
              "      <th>Flight_cancelled</th>\n",
              "      <th>Flight_time_in_minutes</th>\n",
              "      <th>Flight_Distance</th>\n",
              "      <th>Arrival_Delay_greater_5_Mins</th>\n",
              "    </tr>\n",
              "  </thead>\n",
              "  <tbody>\n",
              "    <tr>\n",
              "      <th>0</th>\n",
              "      <td>4.5</td>\n",
              "      <td>Blue</td>\n",
              "      <td>31</td>\n",
              "      <td>Male</td>\n",
              "      <td>1</td>\n",
              "      <td>2007</td>\n",
              "      <td>28</td>\n",
              "      <td>7</td>\n",
              "      <td>Business travel</td>\n",
              "      <td>2</td>\n",
              "      <td>0</td>\n",
              "      <td>75</td>\n",
              "      <td>Business</td>\n",
              "      <td>18</td>\n",
              "      <td>3/18/2014</td>\n",
              "      <td>MQ</td>\n",
              "      <td>EnjoyFlying Air Services</td>\n",
              "      <td>Madison, WI</td>\n",
              "      <td>Wisconsin</td>\n",
              "      <td>Dallas/Fort Worth, TX</td>\n",
              "      <td>Texas</td>\n",
              "      <td>15</td>\n",
              "      <td>0.0</td>\n",
              "      <td>3.0</td>\n",
              "      <td>No</td>\n",
              "      <td>134.0</td>\n",
              "      <td>821</td>\n",
              "      <td>no</td>\n",
              "    </tr>\n",
              "    <tr>\n",
              "      <th>1</th>\n",
              "      <td>4.0</td>\n",
              "      <td>Blue</td>\n",
              "      <td>56</td>\n",
              "      <td>Male</td>\n",
              "      <td>2</td>\n",
              "      <td>2006</td>\n",
              "      <td>41</td>\n",
              "      <td>3</td>\n",
              "      <td>Business travel</td>\n",
              "      <td>0</td>\n",
              "      <td>15</td>\n",
              "      <td>60</td>\n",
              "      <td>Business</td>\n",
              "      <td>11</td>\n",
              "      <td>1/11/2014</td>\n",
              "      <td>MQ</td>\n",
              "      <td>EnjoyFlying Air Services</td>\n",
              "      <td>Madison, WI</td>\n",
              "      <td>Wisconsin</td>\n",
              "      <td>Dallas/Fort Worth, TX</td>\n",
              "      <td>Texas</td>\n",
              "      <td>11</td>\n",
              "      <td>2.0</td>\n",
              "      <td>5.0</td>\n",
              "      <td>No</td>\n",
              "      <td>120.0</td>\n",
              "      <td>821</td>\n",
              "      <td>no</td>\n",
              "    </tr>\n",
              "    <tr>\n",
              "      <th>2</th>\n",
              "      <td>2.5</td>\n",
              "      <td>Blue</td>\n",
              "      <td>21</td>\n",
              "      <td>Female</td>\n",
              "      <td>2</td>\n",
              "      <td>2006</td>\n",
              "      <td>8</td>\n",
              "      <td>7</td>\n",
              "      <td>Personal Travel</td>\n",
              "      <td>0</td>\n",
              "      <td>0</td>\n",
              "      <td>135</td>\n",
              "      <td>Business</td>\n",
              "      <td>25</td>\n",
              "      <td>1/25/2014</td>\n",
              "      <td>MQ</td>\n",
              "      <td>EnjoyFlying Air Services</td>\n",
              "      <td>Milwaukee, WI</td>\n",
              "      <td>Wisconsin</td>\n",
              "      <td>Dallas/Fort Worth, TX</td>\n",
              "      <td>Texas</td>\n",
              "      <td>12</td>\n",
              "      <td>34.0</td>\n",
              "      <td>14.0</td>\n",
              "      <td>No</td>\n",
              "      <td>122.0</td>\n",
              "      <td>853</td>\n",
              "      <td>yes</td>\n",
              "    </tr>\n",
              "    <tr>\n",
              "      <th>3</th>\n",
              "      <td>4.0</td>\n",
              "      <td>Blue</td>\n",
              "      <td>43</td>\n",
              "      <td>Male</td>\n",
              "      <td>1</td>\n",
              "      <td>2007</td>\n",
              "      <td>9</td>\n",
              "      <td>9</td>\n",
              "      <td>Business travel</td>\n",
              "      <td>2</td>\n",
              "      <td>10</td>\n",
              "      <td>45</td>\n",
              "      <td>Eco</td>\n",
              "      <td>20</td>\n",
              "      <td>2/20/2014</td>\n",
              "      <td>MQ</td>\n",
              "      <td>EnjoyFlying Air Services</td>\n",
              "      <td>Madison, WI</td>\n",
              "      <td>Wisconsin</td>\n",
              "      <td>Dallas/Fort Worth, TX</td>\n",
              "      <td>Texas</td>\n",
              "      <td>11</td>\n",
              "      <td>26.0</td>\n",
              "      <td>39.0</td>\n",
              "      <td>No</td>\n",
              "      <td>141.0</td>\n",
              "      <td>821</td>\n",
              "      <td>yes</td>\n",
              "    </tr>\n",
              "    <tr>\n",
              "      <th>4</th>\n",
              "      <td>5.0</td>\n",
              "      <td>Silver</td>\n",
              "      <td>49</td>\n",
              "      <td>Male</td>\n",
              "      <td>1</td>\n",
              "      <td>2006</td>\n",
              "      <td>14</td>\n",
              "      <td>10</td>\n",
              "      <td>Business travel</td>\n",
              "      <td>0</td>\n",
              "      <td>8</td>\n",
              "      <td>26</td>\n",
              "      <td>Eco</td>\n",
              "      <td>25</td>\n",
              "      <td>2/25/2014</td>\n",
              "      <td>MQ</td>\n",
              "      <td>EnjoyFlying Air Services</td>\n",
              "      <td>Milwaukee, WI</td>\n",
              "      <td>Wisconsin</td>\n",
              "      <td>Dallas/Fort Worth, TX</td>\n",
              "      <td>Texas</td>\n",
              "      <td>12</td>\n",
              "      <td>0.0</td>\n",
              "      <td>0.0</td>\n",
              "      <td>No</td>\n",
              "      <td>144.0</td>\n",
              "      <td>853</td>\n",
              "      <td>no</td>\n",
              "    </tr>\n",
              "  </tbody>\n",
              "</table>\n",
              "</div>"
            ],
            "text/plain": [
              "   Satisfaction Airline_Status  ...  Flight_Distance Arrival_Delay_greater_5_Mins\n",
              "0           4.5           Blue  ...              821                           no\n",
              "1           4.0           Blue  ...              821                           no\n",
              "2           2.5           Blue  ...              853                          yes\n",
              "3           4.0           Blue  ...              821                          yes\n",
              "4           5.0         Silver  ...              853                           no\n",
              "\n",
              "[5 rows x 28 columns]"
            ]
          },
          "metadata": {
            "tags": []
          },
          "execution_count": 4
        }
      ]
    },
    {
      "cell_type": "code",
      "metadata": {
        "id": "rlSAr0xvZxj-",
        "colab_type": "code",
        "colab": {
          "base_uri": "https://localhost:8080/",
          "height": 510
        },
        "outputId": "7af36599-b554-46d2-9ae4-d37615892412"
      },
      "source": [
        "flight1.dtypes"
      ],
      "execution_count": 5,
      "outputs": [
        {
          "output_type": "execute_result",
          "data": {
            "text/plain": [
              "Satisfaction                       float64\n",
              "Airline_Status                      object\n",
              "Age                                  int64\n",
              "Gender                              object\n",
              "Price_Sensitivity                    int64\n",
              "Year_of_First_Flight                 int64\n",
              "No_of_Flights_perAir                 int64\n",
              "%_of_Flight_with_other_Airlines      int64\n",
              "Type_of_Travel                      object\n",
              "No._of_other_Loyalty_Cards           int64\n",
              "Shopping_Amount_at_Airport           int64\n",
              "Eating_and_Drinking_at_Airport       int64\n",
              "Class                               object\n",
              "Day_of_Month                         int64\n",
              "Flight_date                         object\n",
              "Airline_Code                        object\n",
              "Airline_Name                        object\n",
              "Orgin_City                          object\n",
              "Origin_State                        object\n",
              "Destination_City                    object\n",
              "Destination_State                   object\n",
              "Scheduled_Departure_Hour             int64\n",
              "Departure_Delay_in_Minutes         float64\n",
              "Arrival_Delay_in_Minutes           float64\n",
              "Flight_cancelled                    object\n",
              "Flight_time_in_minutes             float64\n",
              "Flight_Distance                      int64\n",
              "Arrival_Delay_greater_5_Mins        object\n",
              "dtype: object"
            ]
          },
          "metadata": {
            "tags": []
          },
          "execution_count": 5
        }
      ]
    },
    {
      "cell_type": "code",
      "metadata": {
        "id": "TB2xEn8DarIC",
        "colab_type": "code",
        "colab": {}
      },
      "source": [
        "flight1.Satisfaction = flight1.Satisfaction.astype(int)\n",
        "flight1.Satisfaction = flight1.Satisfaction.astype(int)"
      ],
      "execution_count": 125,
      "outputs": []
    },
    {
      "cell_type": "code",
      "metadata": {
        "id": "iHhvFcTFa7yy",
        "colab_type": "code",
        "colab": {}
      },
      "source": [
        "flight2 = pd.get_dummies(flight1, columns=['Departure_Delay_in_Minutes',\t'Arrival_Delay_in_Minutes',\t'Flight_cancelled'\t,'Flight_time_in_minutes'\t,'Flight_Distance',\t'Arrival_Delay_greater_5_Mins','Day_of_Month',\t'Destination_City',\t'Destination_State',\t'Scheduled_Departure_Hour', 'Airline_Code', 'Airline_Name','Orgin_City', 'Origin_State',  'Airline_Status', 'Gender','Price_Sensitivity', 'Year_of_First_Flight', 'No_of_Flights_perAir', '%_of_Flight_with_other_Airlines',\t'No._of_other_Loyalty_Cards', 'Shopping_Amount_at_Airport', 'Eating_and_Drinking_at_Airport','Flight_date','Type_of_Travel','Class'])\n"
      ],
      "execution_count": 126,
      "outputs": []
    },
    {
      "cell_type": "code",
      "metadata": {
        "id": "NqC3SxHSF6pG",
        "colab_type": "code",
        "colab": {}
      },
      "source": [
        "%matplotlib inline\n",
        "import numpy as np\n",
        "import matplotlib.pyplot as plt\n",
        "from scipy import stats\n",
        "\n",
        "# use seaborn plotting defaults\n",
        "import seaborn as sns; sns.set()"
      ],
      "execution_count": 8,
      "outputs": []
    },
    {
      "cell_type": "code",
      "metadata": {
        "id": "ZuiDuDKdG4mS",
        "colab_type": "code",
        "colab": {}
      },
      "source": [
        "#flight1.dtypes"
      ],
      "execution_count": null,
      "outputs": []
    },
    {
      "cell_type": "code",
      "metadata": {
        "id": "YXOLX9dqGUbt",
        "colab_type": "code",
        "colab": {}
      },
      "source": [
        "#flight1.head()"
      ],
      "execution_count": null,
      "outputs": []
    },
    {
      "cell_type": "code",
      "metadata": {
        "id": "R1O6CQ9ldvX9",
        "colab_type": "code",
        "colab": {}
      },
      "source": [
        "flight1.dropna(inplace=True)"
      ],
      "execution_count": 127,
      "outputs": []
    },
    {
      "cell_type": "code",
      "metadata": {
        "id": "P7gsn031RU6h",
        "colab_type": "code",
        "colab": {}
      },
      "source": [
        "X = flight2.drop('Satisfaction', axis=1)\n",
        "y = flight2['Satisfaction']"
      ],
      "execution_count": 128,
      "outputs": []
    },
    {
      "cell_type": "code",
      "metadata": {
        "id": "ti0IxhccSwNI",
        "colab_type": "code",
        "colab": {}
      },
      "source": [
        "from sklearn.model_selection import train_test_split\n",
        "# implementing train-test-split\n",
        "X_train, X_test, y_train, y_test = train_test_split(X, y, test_size=0.15, random_state=43)"
      ],
      "execution_count": 129,
      "outputs": []
    },
    {
      "cell_type": "code",
      "metadata": {
        "id": "4_FmxynrMWf1",
        "colab_type": "code",
        "colab": {}
      },
      "source": [
        "import numpy as np\n",
        "from numpy import linalg\n",
        "import scipy.io as spio\n",
        "import matplotlib.pyplot as plt\n"
      ],
      "execution_count": 11,
      "outputs": []
    },
    {
      "cell_type": "code",
      "metadata": {
        "id": "UwXhYeo-Pmlv",
        "colab_type": "code",
        "colab": {
          "base_uri": "https://localhost:8080/",
          "height": 71
        },
        "outputId": "079168d3-858d-48f8-f7a9-ce9db13a1db2"
      },
      "source": [
        "import numpy as np\n",
        "import cvxopt\n",
        "from sklearn.datasets.samples_generator import make_blobs\n",
        "from sklearn.model_selection import train_test_split\n",
        "from matplotlib import pyplot as plt\n",
        "from sklearn.svm import LinearSVC\n",
        "from sklearn.metrics import confusion_matrix"
      ],
      "execution_count": 12,
      "outputs": [
        {
          "output_type": "stream",
          "text": [
            "/usr/local/lib/python3.6/dist-packages/sklearn/utils/deprecation.py:144: FutureWarning: The sklearn.datasets.samples_generator module is  deprecated in version 0.22 and will be removed in version 0.24. The corresponding classes / functions should instead be imported from sklearn.datasets. Anything that cannot be imported from sklearn.datasets is now part of the private API.\n",
            "  warnings.warn(message, FutureWarning)\n"
          ],
          "name": "stderr"
        }
      ]
    },
    {
      "cell_type": "code",
      "metadata": {
        "id": "epil7CV5TDas",
        "colab_type": "code",
        "colab": {}
      },
      "source": [
        "import pandas as pd\n",
        "import numpy as np\n",
        "import matplotlib.pyplot as plt\n",
        "%matplotlib inline"
      ],
      "execution_count": 13,
      "outputs": []
    },
    {
      "cell_type": "code",
      "metadata": {
        "id": "NCpCFOtMmZGH",
        "colab_type": "code",
        "colab": {
          "base_uri": "https://localhost:8080/",
          "height": 34
        },
        "outputId": "a44fdd2e-4694-454a-9612-21e883afcadb"
      },
      "source": [
        "flight2.shape"
      ],
      "execution_count": 14,
      "outputs": [
        {
          "output_type": "execute_result",
          "data": {
            "text/plain": [
              "(129889, 4633)"
            ]
          },
          "metadata": {
            "tags": []
          },
          "execution_count": 14
        }
      ]
    },
    {
      "cell_type": "code",
      "metadata": {
        "id": "BKM6k5YtNU8n",
        "colab_type": "code",
        "colab": {
          "base_uri": "https://localhost:8080/",
          "height": 268
        },
        "outputId": "c27aef8b-f149-4bdd-d6fb-ba8392f6cb82"
      },
      "source": [
        "from sklearn.datasets.samples_generator import make_blobs\n",
        "X, y = make_blobs(n_samples=50, centers=5,\n",
        "                  random_state=0, cluster_std=0.60)\n",
        "plt.scatter(X[:, 0], X[:, 1], c=y, s=50, cmap='autumn');"
      ],
      "execution_count": 15,
      "outputs": [
        {
          "output_type": "display_data",
          "data": {
            "image/png": "[encoded data removed]",
            "text/plain": [
              "<Figure size 432x288 with 1 Axes>"
            ]
          },
          "metadata": {
            "tags": [],
            "needs_background": "light"
          }
        }
      ]
    },
    {
      "cell_type": "code",
      "metadata": {
        "id": "1OBv2Dq3mhqE",
        "colab_type": "code",
        "colab": {
          "base_uri": "https://localhost:8080/",
          "height": 85
        },
        "outputId": "2766377e-95b1-43af-bd01-5a77dfff864f"
      },
      "source": [
        "#https://stackabuse.com/implementing-svm-and-kernel-svm-with-pythons-scikit-learn/\n",
        "from sklearn.svm import SVC\n",
        "\n",
        "svclassifier = SVC(kernel='linear')\n",
        "svclassifier.fit(X_test, y_test)"
      ],
      "execution_count": 16,
      "outputs": [
        {
          "output_type": "execute_result",
          "data": {
            "text/plain": [
              "SVC(C=1.0, break_ties=False, cache_size=200, class_weight=None, coef0=0.0,\n",
              "    decision_function_shape='ovr', degree=3, gamma='scale', kernel='linear',\n",
              "    max_iter=-1, probability=False, random_state=None, shrinking=True,\n",
              "    tol=0.001, verbose=False)"
            ]
          },
          "metadata": {
            "tags": []
          },
          "execution_count": 16
        }
      ]
    },
    {
      "cell_type": "code",
      "metadata": {
        "id": "KoUAIoyimkzF",
        "colab_type": "code",
        "colab": {}
      },
      "source": [
        "y_pred = svclassifier.predict(X_test)"
      ],
      "execution_count": 17,
      "outputs": []
    },
    {
      "cell_type": "code",
      "metadata": {
        "id": "hrzeWhV8mvoi",
        "colab_type": "code",
        "colab": {
          "base_uri": "https://localhost:8080/",
          "height": 306
        },
        "outputId": "fa27c585-a130-4a64-b945-1bb4c2d4d00d"
      },
      "source": [
        "from sklearn.metrics import classification_report, confusion_matrix\n",
        "print(confusion_matrix(y_test,y_pred))\n",
        "print(classification_report(y_test,y_pred))"
      ],
      "execution_count": 18,
      "outputs": [
        {
          "output_type": "stream",
          "text": [
            "[[ 152    0    1    1    0]\n",
            " [   2 1033   52   34    0]\n",
            " [   9   59 1486  289    7]\n",
            " [   1   32  123 2562   24]\n",
            " [   1    5   11   91  520]]\n",
            "              precision    recall  f1-score   support\n",
            "\n",
            "           1       0.92      0.99      0.95       154\n",
            "           2       0.91      0.92      0.92      1121\n",
            "           3       0.89      0.80      0.84      1850\n",
            "           4       0.86      0.93      0.90      2742\n",
            "           5       0.94      0.83      0.88       628\n",
            "\n",
            "    accuracy                           0.89      6495\n",
            "   macro avg       0.91      0.89      0.90      6495\n",
            "weighted avg       0.89      0.89      0.88      6495\n",
            "\n"
          ],
          "name": "stdout"
        }
      ]
    }
  ]
}